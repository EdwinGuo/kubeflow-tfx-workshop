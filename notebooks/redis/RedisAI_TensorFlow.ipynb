{
 "cells": [
  {
   "cell_type": "markdown",
   "metadata": {},
   "source": [
    "# TensorFlow + RedisAI"
   ]
  },
  {
   "cell_type": "markdown",
   "metadata": {},
   "source": [
    "# Redis AI Python Client\n",
    "\n",
    "https://github.com/RedisAI/redisai-py\n",
    "\n",
    "https://github.com/RedisAI/redisai-py/blob/master/redisai/client.py"
   ]
  },
  {
   "cell_type": "code",
   "execution_count": null,
   "metadata": {},
   "outputs": [],
   "source": [
    "!pip install redis==3.2.1 redisai==0.2.0 scikit-image==0.14.2"
   ]
  },
  {
   "cell_type": "code",
   "execution_count": null,
   "metadata": {},
   "outputs": [],
   "source": [
    "import six\n",
    "import json\n",
    "import time\n",
    "from redisai.client import Client, Type, DType, Tensor, BlobTensor\n",
    "from skimage import io\n",
    "import numpy as np\n",
    "\n",
    "import matplotlib.pyplot as plt\n",
    "\n",
    "%matplotlib inline\n",
    "%config InlineBackend.figure_format = 'retina'"
   ]
  },
  {
   "cell_type": "markdown",
   "metadata": {},
   "source": [
    "# Setup RedisAI Client\n",
    "`redis-master:6379` => Internal Kubernetes DNS host:port"
   ]
  },
  {
   "cell_type": "code",
   "execution_count": null,
   "metadata": {},
   "outputs": [],
   "source": [
    "rai = Client(host=\"redis-master\", port=6379)"
   ]
  },
  {
   "cell_type": "code",
   "execution_count": null,
   "metadata": {},
   "outputs": [],
   "source": [
    "inputs_np = np.array([1.0, 2.0, 3.0])\n",
    "\n",
    "vector_np_tensor = Tensor(DType.double, \n",
    "                          inputs_np.shape, \n",
    "                          inputs_np.tolist())\n",
    "\n",
    "rai.tensorset(\"vector_np\", vector_np_tensor)"
   ]
  },
  {
   "cell_type": "code",
   "execution_count": null,
   "metadata": {},
   "outputs": [],
   "source": [
    "rai.tensorget(\"vector_np\")"
   ]
  },
  {
   "cell_type": "code",
   "execution_count": null,
   "metadata": {},
   "outputs": [],
   "source": [
    "rai.tensorget(\"vector_np\").value"
   ]
  },
  {
   "cell_type": "code",
   "execution_count": null,
   "metadata": {},
   "outputs": [],
   "source": [
    "inputs_np = np.array([1.0, 2.0, 3.0])\n",
    "\n",
    "np_blob_tensor = BlobTensor.from_numpy(inputs_np)\n",
    "\n",
    "rai.tensorset(\"np_blob\", np_blob_tensor)"
   ]
  },
  {
   "cell_type": "code",
   "execution_count": null,
   "metadata": {},
   "outputs": [],
   "source": [
    "rai.tensorget(\"np_blob\")"
   ]
  },
  {
   "cell_type": "code",
   "execution_count": null,
   "metadata": {},
   "outputs": [],
   "source": [
    "rai.tensorget(\"np_blob\").value"
   ]
  },
  {
   "cell_type": "markdown",
   "metadata": {},
   "source": [
    "# Setup ImageNet Dataset (Predictions)\n",
    "[ImageNet Dataset](http://www.image-net.org/)\n",
    "\n",
    "`imagenet_classes.json`"
   ]
  },
  {
   "cell_type": "code",
   "execution_count": null,
   "metadata": {},
   "outputs": [],
   "source": [
    "prediction_classes = json.load(open(\"imagenet_classes.json\"))"
   ]
  },
  {
   "cell_type": "markdown",
   "metadata": {},
   "source": [
    "# Load Redis with Trained ResNet50 Model (TensorFlow)\n",
    "![](https://cdn-images-1.medium.com/max/1600/1*aq0q7gCvuNUqnMHh4cpnIw.png)"
   ]
  },
  {
   "cell_type": "code",
   "execution_count": null,
   "metadata": {},
   "outputs": [],
   "source": [
    "!wget -O resnet50.pb https://github.com/RedisAI/redisai-examples/raw/master/models/imagenet/tensorflow/resnet50.pb"
   ]
  },
  {
   "cell_type": "code",
   "execution_count": null,
   "metadata": {},
   "outputs": [],
   "source": [
    "tf_model_path = 'resnet50.pb'\n",
    "with open(tf_model_path, 'rb') as f:\n",
    "    tf_model = f.read()\n",
    "\n",
    "rai.execute_command('AI.MODELSET', 'imagenet_model', 'TF', 'CPU', 'INPUTS', 'images', 'OUTPUTS', 'output', tf_model)"
   ]
  },
  {
   "cell_type": "markdown",
   "metadata": {},
   "source": [
    "# Load Redis with Image Processing Utils\n",
    "`data_processing_script_tensorflow.py`"
   ]
  },
  {
   "cell_type": "code",
   "execution_count": null,
   "metadata": {},
   "outputs": [],
   "source": [
    "script_path = 'data_processing_script_tensorflow.py'\n",
    "with open(script_path, 'rb') as f:\n",
    "    script = f.read()\n",
    "    \n",
    "rai.execute_command('AI.SCRIPTSET', 'imagenet_script', 'CPU', script)"
   ]
  },
  {
   "cell_type": "markdown",
   "metadata": {},
   "source": [
    "# Make Predictions Directly in Redis!"
   ]
  },
  {
   "cell_type": "code",
   "execution_count": null,
   "metadata": {},
   "outputs": [],
   "source": [
    "cat_img_path = 'cat.jpg'\n",
    "\n",
    "cat_image = io.imread(cat_img_path)\n",
    "\n",
    "cat_image_blob_tensor = BlobTensor(DType.uint8,\n",
    "                                   cat_image.shape,\n",
    "                                   cat_image.tobytes())\n",
    "\n",
    "rai.tensorset(\"cat_image_blob\", cat_image_blob_tensor)\n",
    "plt.axis('off')\n",
    "plt.imshow(cat_image)"
   ]
  },
  {
   "cell_type": "code",
   "execution_count": null,
   "metadata": {},
   "outputs": [],
   "source": [
    "rai.tensorget(\"cat_image_blob\")"
   ]
  },
  {
   "cell_type": "code",
   "execution_count": null,
   "metadata": {},
   "outputs": [],
   "source": [
    "rai.tensorget(\"cat_image_blob\").value[100:110]"
   ]
  },
  {
   "cell_type": "code",
   "execution_count": null,
   "metadata": {},
   "outputs": [],
   "source": [
    "start_time = time.time()\n",
    "\n",
    "rai.execute_command('AI.TENSORSET', 'image', 'UINT8', *cat_image.shape, 'BLOB', cat_image.tobytes())\n",
    "rai.execute_command('AI.SCRIPTRUN', 'imagenet_script', 'pre_process_3ch', 'INPUTS', 'image', 'OUTPUTS', 'temp1')\n",
    "rai.execute_command('AI.MODELRUN', 'imagenet_model', 'INPUTS', 'temp1', 'OUTPUTS', 'temp2')\n",
    "rai.execute_command('AI.SCRIPTRUN', 'imagenet_script', 'post_process', 'INPUTS', 'temp2', 'OUTPUTS', 'out')\n",
    "\n",
    "end_time = time.time()\n",
    "\n",
    "prediction = rai.execute_command('AI.TENSORGET', 'out', 'VALUES')\n",
    "\n",
    "print(\"Predicted index\", prediction[2][0], \"in\", (end_time - start_time), \"seconds\")"
   ]
  },
  {
   "cell_type": "code",
   "execution_count": null,
   "metadata": {},
   "outputs": [],
   "source": [
    "idx = prediction[2][0]\n",
    "\n",
    "print(idx, \"=>\", prediction_classes[str(idx)])"
   ]
  },
  {
   "cell_type": "code",
   "execution_count": null,
   "metadata": {},
   "outputs": [],
   "source": [
    "guitar_img_path = 'guitar.jpg'\n",
    "\n",
    "guitar_image = io.imread(guitar_img_path)\n",
    "\n",
    "guitar_image_blob_tensor = BlobTensor(DType.uint8,\n",
    "                                      guitar_image.shape,\n",
    "                                      guitar_image.tobytes())\n",
    "\n",
    "rai.tensorset(\"guitar_image_blob\", guitar_image_blob_tensor)\n",
    "plt.axis('off')\n",
    "plt.imshow(guitar_image)"
   ]
  },
  {
   "cell_type": "code",
   "execution_count": null,
   "metadata": {},
   "outputs": [],
   "source": [
    "rai.tensorget(\"guitar_image_blob\")"
   ]
  },
  {
   "cell_type": "code",
   "execution_count": null,
   "metadata": {},
   "outputs": [],
   "source": [
    "rai.tensorget(\"guitar_image_blob\").value[400:410]"
   ]
  },
  {
   "cell_type": "code",
   "execution_count": null,
   "metadata": {},
   "outputs": [],
   "source": [
    "start_time = time.time()\n",
    "\n",
    "rai.execute_command('AI.TENSORSET', 'image', 'UINT8', *guitar_image.shape, 'BLOB', guitar_image.tobytes())\n",
    "rai.execute_command('AI.SCRIPTRUN', 'imagenet_script', 'pre_process_3ch', 'INPUTS', 'image', 'OUTPUTS', 'temp1')\n",
    "rai.execute_command('AI.MODELRUN', 'imagenet_model', 'INPUTS', 'temp1', 'OUTPUTS', 'temp2')\n",
    "rai.execute_command('AI.SCRIPTRUN', 'imagenet_script', 'post_process', 'INPUTS', 'temp2', 'OUTPUTS', 'out')\n",
    "\n",
    "end_time = time.time()\n",
    "\n",
    "prediction = rai.execute_command('AI.TENSORGET', 'out', 'VALUES')\n",
    "\n",
    "print(\"Predicted index\", prediction[2][0], \"in\", (end_time - start_time), \"seconds\")"
   ]
  },
  {
   "cell_type": "code",
   "execution_count": null,
   "metadata": {},
   "outputs": [],
   "source": [
    "idx = prediction[2][0]\n",
    "\n",
    "print(idx, \"=>\", prediction_classes[str(idx)])"
   ]
  },
  {
   "cell_type": "code",
   "execution_count": null,
   "metadata": {},
   "outputs": [],
   "source": [
    "salvatore_img_path = 'salvatore.jpg'\n",
    "\n",
    "salvatore_image = io.imread(salvatore_img_path)\n",
    "\n",
    "salvatore_image_blob_tensor = BlobTensor(DType.uint8,\n",
    "                                         salvatore_image.shape,\n",
    "                                         salvatore_image.tobytes())\n",
    "\n",
    "rai.tensorset(\"salvatore_image_blob\", salvatore_image_blob_tensor)\n",
    "\n",
    "plt.axis('off')\n",
    "plt.imshow(salvatore_image)"
   ]
  },
  {
   "cell_type": "code",
   "execution_count": null,
   "metadata": {},
   "outputs": [],
   "source": [
    "rai.tensorget(\"salvatore_image_blob\")"
   ]
  },
  {
   "cell_type": "code",
   "execution_count": null,
   "metadata": {},
   "outputs": [],
   "source": [
    "rai.tensorget(\"salvatore_image_blob\").value[400:410]"
   ]
  },
  {
   "cell_type": "code",
   "execution_count": null,
   "metadata": {},
   "outputs": [],
   "source": [
    "start_time = time.time()\n",
    "\n",
    "rai.execute_command('AI.TENSORSET', 'image', 'UINT8', *salvatore_image.shape, 'BLOB', salvatore_image.tobytes())\n",
    "rai.execute_command('AI.SCRIPTRUN', 'imagenet_script', 'pre_process_3ch', 'INPUTS', 'image', 'OUTPUTS', 'temp1')\n",
    "rai.execute_command('AI.MODELRUN', 'imagenet_model', 'INPUTS', 'temp1', 'OUTPUTS', 'temp2')\n",
    "rai.execute_command('AI.SCRIPTRUN', 'imagenet_script', 'post_process', 'INPUTS', 'temp2', 'OUTPUTS', 'out')\n",
    "\n",
    "end_time = time.time()\n",
    "\n",
    "prediction = rai.execute_command('AI.TENSORGET', 'out', 'VALUES')\n",
    "\n",
    "print(\"Predicted index\", prediction[2][0], \"in\", (end_time - start_time), \"seconds\")"
   ]
  },
  {
   "cell_type": "code",
   "execution_count": null,
   "metadata": {},
   "outputs": [],
   "source": [
    "idx = prediction[2][0]\n",
    "\n",
    "print(idx, \"=>\", prediction_classes[str(idx)])"
   ]
  },
  {
   "cell_type": "code",
   "execution_count": null,
   "metadata": {},
   "outputs": [],
   "source": []
  }
 ],
 "metadata": {
  "kernelspec": {
   "display_name": "Python 3",
   "language": "python",
   "name": "python3"
  },
  "language_info": {
   "codemirror_mode": {
    "name": "ipython",
    "version": 3
   },
   "file_extension": ".py",
   "mimetype": "text/x-python",
   "name": "python",
   "nbconvert_exporter": "python",
   "pygments_lexer": "ipython3",
   "version": "3.6.7"
  }
 },
 "nbformat": 4,
 "nbformat_minor": 2
}
