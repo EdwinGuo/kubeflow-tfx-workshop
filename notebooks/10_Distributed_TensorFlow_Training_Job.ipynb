{
 "cells": [
  {
   "cell_type": "code",
   "execution_count": 1,
   "metadata": {},
   "outputs": [
    {
     "name": "stdout",
     "output_type": "stream",
     "text": [
      "tfjob.kubeflow.org/tfjobbldc7 created\r\n"
     ]
    }
   ],
   "source": [
    "!kubectl create -f training-jobs/distributed-tensorflow-training-job.yaml"
   ]
  },
  {
   "cell_type": "code",
   "execution_count": 2,
   "metadata": {},
   "outputs": [
    {
     "name": "stdout",
     "output_type": "stream",
     "text": [
      "NAME         STATE   AGE\r\n",
      "tfjobbldc7           1s\r\n"
     ]
    }
   ],
   "source": [
    "!kubectl get tfjob"
   ]
  },
  {
   "cell_type": "code",
   "execution_count": 3,
   "metadata": {},
   "outputs": [
    {
     "name": "stdout",
     "output_type": "stream",
     "text": [
      "/bin/sh: 1: Syntax error: end of file unexpected\r\n"
     ]
    }
   ],
   "source": [
    "!kubectl describe tfjob <copy-paste-name-of-tfjob>"
   ]
  },
  {
   "cell_type": "code",
   "execution_count": 4,
   "metadata": {},
   "outputs": [
    {
     "name": "stdout",
     "output_type": "stream",
     "text": [
      "/bin/sh: 1: Syntax error: end of file unexpected\r\n"
     ]
    }
   ],
   "source": [
    "!kubectl get pod | grep <copy-paste-name-of-tfjob>"
   ]
  },
  {
   "cell_type": "code",
   "execution_count": 5,
   "metadata": {},
   "outputs": [
    {
     "name": "stdout",
     "output_type": "stream",
     "text": [
      "/bin/sh: 1: Syntax error: end of file unexpected\r\n"
     ]
    }
   ],
   "source": [
    "!kubectl logs -f <copy-paste-name-of-pod>"
   ]
  },
  {
   "cell_type": "code",
   "execution_count": null,
   "metadata": {},
   "outputs": [],
   "source": []
  }
 ],
 "metadata": {
  "kernelspec": {
   "display_name": "Python 3",
   "language": "python",
   "name": "python3"
  },
  "language_info": {
   "codemirror_mode": {
    "name": "ipython",
    "version": 3
   },
   "file_extension": ".py",
   "mimetype": "text/x-python",
   "name": "python",
   "nbconvert_exporter": "python",
   "pygments_lexer": "ipython3",
   "version": "3.6.7"
  }
 },
 "nbformat": 4,
 "nbformat_minor": 2
}
