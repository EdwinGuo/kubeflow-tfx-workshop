{
 "cells": [
  {
   "cell_type": "code",
   "execution_count": 1,
   "metadata": {},
   "outputs": [
    {
     "name": "stdout",
     "output_type": "stream",
     "text": [
      "Error from server (AlreadyExists): error when creating \"hyperparameter-tuning/random-search-job.yaml\": studyjobs.kubeflow.org \"random-search-job\" already exists\r\n"
     ]
    }
   ],
   "source": [
    "!kubectl create -f hyperparameter-tuning/random-search-job.yaml"
   ]
  },
  {
   "cell_type": "code",
   "execution_count": 2,
   "metadata": {},
   "outputs": [
    {
     "name": "stdout",
     "output_type": "stream",
     "text": [
      "Error from server (AlreadyExists): error when creating \"hyperparameter-tuning/random-search-tfjob.yaml\": object is being deleted: studyjobs.kubeflow.org \"random-search-tfjob\" already exists\r\n"
     ]
    }
   ],
   "source": [
    "!kubectl create -f hyperparameter-tuning/random-search-tfjob.yaml"
   ]
  },
  {
   "cell_type": "code",
   "execution_count": null,
   "metadata": {},
   "outputs": [],
   "source": []
  }
 ],
 "metadata": {
  "kernelspec": {
   "display_name": "Python 3",
   "language": "python",
   "name": "python3"
  },
  "language_info": {
   "codemirror_mode": {
    "name": "ipython",
    "version": 3
   },
   "file_extension": ".py",
   "mimetype": "text/x-python",
   "name": "python",
   "nbconvert_exporter": "python",
   "pygments_lexer": "ipython3",
   "version": "3.6.7"
  }
 },
 "nbformat": 4,
 "nbformat_minor": 2
}
